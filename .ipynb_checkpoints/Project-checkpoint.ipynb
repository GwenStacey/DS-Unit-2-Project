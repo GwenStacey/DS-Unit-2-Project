{
 "cells": [
  {
   "cell_type": "code",
   "execution_count": 1,
   "metadata": {},
   "outputs": [],
   "source": [
    "#Initial imports\n",
    "import pandas as pd\n",
    "import numpy as np\n",
    "import matplotlib.pyplot as plt\n",
    "import seaborn as sns\n",
    "import os"
   ]
  },
  {
   "cell_type": "code",
   "execution_count": 2,
   "metadata": {},
   "outputs": [],
   "source": [
    "#read in dataframe from source\n",
    "source = 'Data'\n",
    "pkmndf = pd.read_csv(os.path.join(source, 'pokemon.csv'))\n",
    "bttlsdf = pd.read_csv(os.path.join(source, 'combats.csv'))"
   ]
  },
  {
   "cell_type": "code",
   "execution_count": 3,
   "metadata": {},
   "outputs": [],
   "source": [
    "stats = ['HP', 'Attack', 'Defense', 'Sp. Atk', 'Sp. Def', 'Speed']\n",
    "stats_dict = {}\n",
    "#Using a loop to add all stats to a dictionary\n",
    "for s in stats:\n",
    "    temp_list = []\n",
    "    for i in bttlsdf['First_pokemon']:\n",
    "        stat = pkmndf.at[i-1, s]\n",
    "        temp_list.append(stat)\n",
    "        stats_dict[f'{s}']=temp_list"
   ]
  },
  {
   "cell_type": "code",
   "execution_count": 4,
   "metadata": {},
   "outputs": [],
   "source": [
    "stats_dict2 = {}\n",
    "#Copying for second pokemon\n",
    "for s in stats:\n",
    "    temp_list = []\n",
    "    for i in bttlsdf['Second_pokemon']:\n",
    "        stat = pkmndf.at[i-1, s]\n",
    "        temp_list.append(stat)\n",
    "        stats_dict2[f'{s}']=temp_list"
   ]
  },
  {
   "cell_type": "code",
   "execution_count": 5,
   "metadata": {},
   "outputs": [],
   "source": [
    "#Create all 12 new features with one simple for loop\n",
    "for k in stats_dict.keys():\n",
    "    bttlsdf[f'P1_{k}'] = stats_dict[k]\n",
    "    bttlsdf[f'P2_{k}'] = stats_dict2[k]"
   ]
  },
  {
   "cell_type": "code",
   "execution_count": 6,
   "metadata": {},
   "outputs": [],
   "source": [
    "bttlsdf['P1_HighSpeed'] = bttlsdf['P1_Speed']>bttlsdf['P2_Speed']"
   ]
  },
  {
   "cell_type": "code",
   "execution_count": 7,
   "metadata": {},
   "outputs": [],
   "source": [
    "from IPython.display import display\n",
    "pd.options.display.max_columns = None"
   ]
  },
  {
   "cell_type": "code",
   "execution_count": 8,
   "metadata": {},
   "outputs": [
    {
     "data": {
      "text/html": [
       "<div>\n",
       "<style scoped>\n",
       "    .dataframe tbody tr th:only-of-type {\n",
       "        vertical-align: middle;\n",
       "    }\n",
       "\n",
       "    .dataframe tbody tr th {\n",
       "        vertical-align: top;\n",
       "    }\n",
       "\n",
       "    .dataframe thead th {\n",
       "        text-align: right;\n",
       "    }\n",
       "</style>\n",
       "<table border=\"1\" class=\"dataframe\">\n",
       "  <thead>\n",
       "    <tr style=\"text-align: right;\">\n",
       "      <th></th>\n",
       "      <th>First_pokemon</th>\n",
       "      <th>Second_pokemon</th>\n",
       "      <th>Winner</th>\n",
       "      <th>P1_HP</th>\n",
       "      <th>P2_HP</th>\n",
       "      <th>P1_Attack</th>\n",
       "      <th>P2_Attack</th>\n",
       "      <th>P1_Defense</th>\n",
       "      <th>P2_Defense</th>\n",
       "      <th>P1_Sp. Atk</th>\n",
       "      <th>P2_Sp. Atk</th>\n",
       "      <th>P1_Sp. Def</th>\n",
       "      <th>P2_Sp. Def</th>\n",
       "      <th>P1_Speed</th>\n",
       "      <th>P2_Speed</th>\n",
       "      <th>P1_HighSpeed</th>\n",
       "    </tr>\n",
       "  </thead>\n",
       "  <tbody>\n",
       "    <tr>\n",
       "      <th>0</th>\n",
       "      <td>266</td>\n",
       "      <td>298</td>\n",
       "      <td>298</td>\n",
       "      <td>50</td>\n",
       "      <td>70</td>\n",
       "      <td>64</td>\n",
       "      <td>70</td>\n",
       "      <td>50</td>\n",
       "      <td>40</td>\n",
       "      <td>45</td>\n",
       "      <td>60</td>\n",
       "      <td>50</td>\n",
       "      <td>40</td>\n",
       "      <td>41</td>\n",
       "      <td>60</td>\n",
       "      <td>False</td>\n",
       "    </tr>\n",
       "    <tr>\n",
       "      <th>1</th>\n",
       "      <td>702</td>\n",
       "      <td>701</td>\n",
       "      <td>701</td>\n",
       "      <td>91</td>\n",
       "      <td>91</td>\n",
       "      <td>90</td>\n",
       "      <td>129</td>\n",
       "      <td>72</td>\n",
       "      <td>90</td>\n",
       "      <td>90</td>\n",
       "      <td>72</td>\n",
       "      <td>129</td>\n",
       "      <td>90</td>\n",
       "      <td>108</td>\n",
       "      <td>108</td>\n",
       "      <td>False</td>\n",
       "    </tr>\n",
       "    <tr>\n",
       "      <th>2</th>\n",
       "      <td>191</td>\n",
       "      <td>668</td>\n",
       "      <td>668</td>\n",
       "      <td>55</td>\n",
       "      <td>75</td>\n",
       "      <td>40</td>\n",
       "      <td>75</td>\n",
       "      <td>85</td>\n",
       "      <td>75</td>\n",
       "      <td>80</td>\n",
       "      <td>125</td>\n",
       "      <td>105</td>\n",
       "      <td>95</td>\n",
       "      <td>40</td>\n",
       "      <td>40</td>\n",
       "      <td>False</td>\n",
       "    </tr>\n",
       "    <tr>\n",
       "      <th>3</th>\n",
       "      <td>237</td>\n",
       "      <td>683</td>\n",
       "      <td>683</td>\n",
       "      <td>40</td>\n",
       "      <td>77</td>\n",
       "      <td>40</td>\n",
       "      <td>120</td>\n",
       "      <td>40</td>\n",
       "      <td>90</td>\n",
       "      <td>70</td>\n",
       "      <td>60</td>\n",
       "      <td>40</td>\n",
       "      <td>90</td>\n",
       "      <td>20</td>\n",
       "      <td>48</td>\n",
       "      <td>False</td>\n",
       "    </tr>\n",
       "    <tr>\n",
       "      <th>4</th>\n",
       "      <td>151</td>\n",
       "      <td>231</td>\n",
       "      <td>151</td>\n",
       "      <td>70</td>\n",
       "      <td>20</td>\n",
       "      <td>60</td>\n",
       "      <td>10</td>\n",
       "      <td>125</td>\n",
       "      <td>230</td>\n",
       "      <td>115</td>\n",
       "      <td>10</td>\n",
       "      <td>70</td>\n",
       "      <td>230</td>\n",
       "      <td>55</td>\n",
       "      <td>5</td>\n",
       "      <td>True</td>\n",
       "    </tr>\n",
       "    <tr>\n",
       "      <th>5</th>\n",
       "      <td>657</td>\n",
       "      <td>752</td>\n",
       "      <td>657</td>\n",
       "      <td>50</td>\n",
       "      <td>60</td>\n",
       "      <td>47</td>\n",
       "      <td>50</td>\n",
       "      <td>50</td>\n",
       "      <td>150</td>\n",
       "      <td>57</td>\n",
       "      <td>50</td>\n",
       "      <td>50</td>\n",
       "      <td>150</td>\n",
       "      <td>65</td>\n",
       "      <td>60</td>\n",
       "      <td>True</td>\n",
       "    </tr>\n",
       "    <tr>\n",
       "      <th>6</th>\n",
       "      <td>192</td>\n",
       "      <td>134</td>\n",
       "      <td>134</td>\n",
       "      <td>40</td>\n",
       "      <td>65</td>\n",
       "      <td>50</td>\n",
       "      <td>50</td>\n",
       "      <td>45</td>\n",
       "      <td>35</td>\n",
       "      <td>70</td>\n",
       "      <td>115</td>\n",
       "      <td>45</td>\n",
       "      <td>95</td>\n",
       "      <td>70</td>\n",
       "      <td>95</td>\n",
       "      <td>False</td>\n",
       "    </tr>\n",
       "    <tr>\n",
       "      <th>7</th>\n",
       "      <td>73</td>\n",
       "      <td>545</td>\n",
       "      <td>545</td>\n",
       "      <td>70</td>\n",
       "      <td>150</td>\n",
       "      <td>80</td>\n",
       "      <td>100</td>\n",
       "      <td>50</td>\n",
       "      <td>120</td>\n",
       "      <td>35</td>\n",
       "      <td>100</td>\n",
       "      <td>35</td>\n",
       "      <td>120</td>\n",
       "      <td>35</td>\n",
       "      <td>90</td>\n",
       "      <td>False</td>\n",
       "    </tr>\n",
       "    <tr>\n",
       "      <th>8</th>\n",
       "      <td>220</td>\n",
       "      <td>763</td>\n",
       "      <td>763</td>\n",
       "      <td>50</td>\n",
       "      <td>50</td>\n",
       "      <td>65</td>\n",
       "      <td>53</td>\n",
       "      <td>90</td>\n",
       "      <td>62</td>\n",
       "      <td>35</td>\n",
       "      <td>58</td>\n",
       "      <td>35</td>\n",
       "      <td>63</td>\n",
       "      <td>15</td>\n",
       "      <td>44</td>\n",
       "      <td>False</td>\n",
       "    </tr>\n",
       "    <tr>\n",
       "      <th>9</th>\n",
       "      <td>302</td>\n",
       "      <td>31</td>\n",
       "      <td>31</td>\n",
       "      <td>40</td>\n",
       "      <td>35</td>\n",
       "      <td>30</td>\n",
       "      <td>55</td>\n",
       "      <td>30</td>\n",
       "      <td>40</td>\n",
       "      <td>55</td>\n",
       "      <td>50</td>\n",
       "      <td>30</td>\n",
       "      <td>50</td>\n",
       "      <td>85</td>\n",
       "      <td>90</td>\n",
       "      <td>False</td>\n",
       "    </tr>\n",
       "  </tbody>\n",
       "</table>\n",
       "</div>"
      ],
      "text/plain": [
       "   First_pokemon  Second_pokemon  Winner  P1_HP  P2_HP  P1_Attack  P2_Attack  \\\n",
       "0            266             298     298     50     70         64         70   \n",
       "1            702             701     701     91     91         90        129   \n",
       "2            191             668     668     55     75         40         75   \n",
       "3            237             683     683     40     77         40        120   \n",
       "4            151             231     151     70     20         60         10   \n",
       "5            657             752     657     50     60         47         50   \n",
       "6            192             134     134     40     65         50         50   \n",
       "7             73             545     545     70    150         80        100   \n",
       "8            220             763     763     50     50         65         53   \n",
       "9            302              31      31     40     35         30         55   \n",
       "\n",
       "   P1_Defense  P2_Defense  P1_Sp. Atk  P2_Sp. Atk  P1_Sp. Def  P2_Sp. Def  \\\n",
       "0          50          40          45          60          50          40   \n",
       "1          72          90          90          72         129          90   \n",
       "2          85          75          80         125         105          95   \n",
       "3          40          90          70          60          40          90   \n",
       "4         125         230         115          10          70         230   \n",
       "5          50         150          57          50          50         150   \n",
       "6          45          35          70         115          45          95   \n",
       "7          50         120          35         100          35         120   \n",
       "8          90          62          35          58          35          63   \n",
       "9          30          40          55          50          30          50   \n",
       "\n",
       "   P1_Speed  P2_Speed  P1_HighSpeed  \n",
       "0        41        60         False  \n",
       "1       108       108         False  \n",
       "2        40        40         False  \n",
       "3        20        48         False  \n",
       "4        55         5          True  \n",
       "5        65        60          True  \n",
       "6        70        95         False  \n",
       "7        35        90         False  \n",
       "8        15        44         False  \n",
       "9        85        90         False  "
      ]
     },
     "execution_count": 8,
     "metadata": {},
     "output_type": "execute_result"
    }
   ],
   "source": [
    "#Have a quick look to begin exploration\n",
    "bttlsdf.head(10)"
   ]
  },
  {
   "cell_type": "code",
   "execution_count": 9,
   "metadata": {},
   "outputs": [],
   "source": [
    "bttlsdf['P1_Winner'] = bttlsdf['Winner'] == bttlsdf['First_pokemon']"
   ]
  },
  {
   "cell_type": "code",
   "execution_count": 10,
   "metadata": {},
   "outputs": [],
   "source": [
    "#Dropping irellevant columns\n",
    "bttlsdf.drop(columns = ['First_pokemon', 'Second_pokemon'], inplace = True)"
   ]
  },
  {
   "cell_type": "code",
   "execution_count": 11,
   "metadata": {},
   "outputs": [],
   "source": [
    "#Grab some packages we'll need for data prep and model fitting\n",
    "from xgboost import XGBClassifier\n",
    "from sklearn.model_selection import train_test_split"
   ]
  },
  {
   "cell_type": "code",
   "execution_count": 12,
   "metadata": {},
   "outputs": [
    {
     "data": {
      "text/html": [
       "<div>\n",
       "<style scoped>\n",
       "    .dataframe tbody tr th:only-of-type {\n",
       "        vertical-align: middle;\n",
       "    }\n",
       "\n",
       "    .dataframe tbody tr th {\n",
       "        vertical-align: top;\n",
       "    }\n",
       "\n",
       "    .dataframe thead th {\n",
       "        text-align: right;\n",
       "    }\n",
       "</style>\n",
       "<table border=\"1\" class=\"dataframe\">\n",
       "  <thead>\n",
       "    <tr style=\"text-align: right;\">\n",
       "      <th></th>\n",
       "      <th>Winner</th>\n",
       "      <th>P1_HP</th>\n",
       "      <th>P2_HP</th>\n",
       "      <th>P1_Attack</th>\n",
       "      <th>P2_Attack</th>\n",
       "      <th>P1_Defense</th>\n",
       "      <th>P2_Defense</th>\n",
       "      <th>P1_Sp. Atk</th>\n",
       "      <th>P2_Sp. Atk</th>\n",
       "      <th>P1_Sp. Def</th>\n",
       "      <th>P2_Sp. Def</th>\n",
       "      <th>P1_Speed</th>\n",
       "      <th>P2_Speed</th>\n",
       "      <th>P1_HighSpeed</th>\n",
       "      <th>P1_Winner</th>\n",
       "    </tr>\n",
       "  </thead>\n",
       "  <tbody>\n",
       "    <tr>\n",
       "      <th>43407</th>\n",
       "      <td>519</td>\n",
       "      <td>75</td>\n",
       "      <td>125</td>\n",
       "      <td>95</td>\n",
       "      <td>58</td>\n",
       "      <td>67</td>\n",
       "      <td>58</td>\n",
       "      <td>125</td>\n",
       "      <td>76</td>\n",
       "      <td>95</td>\n",
       "      <td>76</td>\n",
       "      <td>83</td>\n",
       "      <td>67</td>\n",
       "      <td>True</td>\n",
       "      <td>True</td>\n",
       "    </tr>\n",
       "    <tr>\n",
       "      <th>22957</th>\n",
       "      <td>137</td>\n",
       "      <td>65</td>\n",
       "      <td>65</td>\n",
       "      <td>125</td>\n",
       "      <td>80</td>\n",
       "      <td>100</td>\n",
       "      <td>65</td>\n",
       "      <td>55</td>\n",
       "      <td>35</td>\n",
       "      <td>70</td>\n",
       "      <td>65</td>\n",
       "      <td>85</td>\n",
       "      <td>60</td>\n",
       "      <td>True</td>\n",
       "      <td>True</td>\n",
       "    </tr>\n",
       "    <tr>\n",
       "      <th>6138</th>\n",
       "      <td>62</td>\n",
       "      <td>50</td>\n",
       "      <td>40</td>\n",
       "      <td>85</td>\n",
       "      <td>80</td>\n",
       "      <td>40</td>\n",
       "      <td>35</td>\n",
       "      <td>85</td>\n",
       "      <td>35</td>\n",
       "      <td>40</td>\n",
       "      <td>45</td>\n",
       "      <td>35</td>\n",
       "      <td>70</td>\n",
       "      <td>False</td>\n",
       "      <td>False</td>\n",
       "    </tr>\n",
       "    <tr>\n",
       "      <th>46895</th>\n",
       "      <td>23</td>\n",
       "      <td>83</td>\n",
       "      <td>100</td>\n",
       "      <td>80</td>\n",
       "      <td>100</td>\n",
       "      <td>75</td>\n",
       "      <td>100</td>\n",
       "      <td>70</td>\n",
       "      <td>100</td>\n",
       "      <td>70</td>\n",
       "      <td>100</td>\n",
       "      <td>101</td>\n",
       "      <td>100</td>\n",
       "      <td>True</td>\n",
       "      <td>True</td>\n",
       "    </tr>\n",
       "    <tr>\n",
       "      <th>13258</th>\n",
       "      <td>30</td>\n",
       "      <td>50</td>\n",
       "      <td>60</td>\n",
       "      <td>50</td>\n",
       "      <td>85</td>\n",
       "      <td>40</td>\n",
       "      <td>69</td>\n",
       "      <td>30</td>\n",
       "      <td>65</td>\n",
       "      <td>30</td>\n",
       "      <td>79</td>\n",
       "      <td>50</td>\n",
       "      <td>80</td>\n",
       "      <td>False</td>\n",
       "      <td>False</td>\n",
       "    </tr>\n",
       "  </tbody>\n",
       "</table>\n",
       "</div>"
      ],
      "text/plain": [
       "       Winner  P1_HP  P2_HP  P1_Attack  P2_Attack  P1_Defense  P2_Defense  \\\n",
       "43407     519     75    125         95         58          67          58   \n",
       "22957     137     65     65        125         80         100          65   \n",
       "6138       62     50     40         85         80          40          35   \n",
       "46895      23     83    100         80        100          75         100   \n",
       "13258      30     50     60         50         85          40          69   \n",
       "\n",
       "       P1_Sp. Atk  P2_Sp. Atk  P1_Sp. Def  P2_Sp. Def  P1_Speed  P2_Speed  \\\n",
       "43407         125          76          95          76        83        67   \n",
       "22957          55          35          70          65        85        60   \n",
       "6138           85          35          40          45        35        70   \n",
       "46895          70         100          70         100       101       100   \n",
       "13258          30          65          30          79        50        80   \n",
       "\n",
       "       P1_HighSpeed  P1_Winner  \n",
       "43407          True       True  \n",
       "22957          True       True  \n",
       "6138          False      False  \n",
       "46895          True       True  \n",
       "13258         False      False  "
      ]
     },
     "execution_count": 12,
     "metadata": {},
     "output_type": "execute_result"
    }
   ],
   "source": [
    "train, val = train_test_split(bttlsdf)\n",
    "train.head()"
   ]
  },
  {
   "cell_type": "code",
   "execution_count": 15,
   "metadata": {},
   "outputs": [
    {
     "data": {
      "text/html": [
       "<div>\n",
       "<style scoped>\n",
       "    .dataframe tbody tr th:only-of-type {\n",
       "        vertical-align: middle;\n",
       "    }\n",
       "\n",
       "    .dataframe tbody tr th {\n",
       "        vertical-align: top;\n",
       "    }\n",
       "\n",
       "    .dataframe thead th {\n",
       "        text-align: right;\n",
       "    }\n",
       "</style>\n",
       "<table border=\"1\" class=\"dataframe\">\n",
       "  <thead>\n",
       "    <tr style=\"text-align: right;\">\n",
       "      <th></th>\n",
       "      <th>Winner</th>\n",
       "      <th>P1_HP</th>\n",
       "      <th>P2_HP</th>\n",
       "      <th>P1_Attack</th>\n",
       "      <th>P2_Attack</th>\n",
       "      <th>P1_Defense</th>\n",
       "      <th>P2_Defense</th>\n",
       "      <th>P1_Sp. Atk</th>\n",
       "      <th>P2_Sp. Atk</th>\n",
       "      <th>P1_Sp. Def</th>\n",
       "      <th>P2_Sp. Def</th>\n",
       "      <th>P1_Speed</th>\n",
       "      <th>P2_Speed</th>\n",
       "      <th>P1_HighSpeed</th>\n",
       "      <th>P1_Winner</th>\n",
       "    </tr>\n",
       "  </thead>\n",
       "  <tbody>\n",
       "    <tr>\n",
       "      <th>39826</th>\n",
       "      <td>532</td>\n",
       "      <td>45</td>\n",
       "      <td>50</td>\n",
       "      <td>53</td>\n",
       "      <td>50</td>\n",
       "      <td>70</td>\n",
       "      <td>77</td>\n",
       "      <td>40</td>\n",
       "      <td>95</td>\n",
       "      <td>60</td>\n",
       "      <td>77</td>\n",
       "      <td>42</td>\n",
       "      <td>91</td>\n",
       "      <td>False</td>\n",
       "      <td>False</td>\n",
       "    </tr>\n",
       "    <tr>\n",
       "      <th>9202</th>\n",
       "      <td>567</td>\n",
       "      <td>60</td>\n",
       "      <td>65</td>\n",
       "      <td>55</td>\n",
       "      <td>80</td>\n",
       "      <td>90</td>\n",
       "      <td>65</td>\n",
       "      <td>145</td>\n",
       "      <td>35</td>\n",
       "      <td>90</td>\n",
       "      <td>65</td>\n",
       "      <td>80</td>\n",
       "      <td>60</td>\n",
       "      <td>True</td>\n",
       "      <td>False</td>\n",
       "    </tr>\n",
       "    <tr>\n",
       "      <th>17882</th>\n",
       "      <td>409</td>\n",
       "      <td>50</td>\n",
       "      <td>95</td>\n",
       "      <td>64</td>\n",
       "      <td>135</td>\n",
       "      <td>50</td>\n",
       "      <td>80</td>\n",
       "      <td>45</td>\n",
       "      <td>110</td>\n",
       "      <td>50</td>\n",
       "      <td>80</td>\n",
       "      <td>41</td>\n",
       "      <td>100</td>\n",
       "      <td>False</td>\n",
       "      <td>False</td>\n",
       "    </tr>\n",
       "    <tr>\n",
       "      <th>35313</th>\n",
       "      <td>554</td>\n",
       "      <td>65</td>\n",
       "      <td>100</td>\n",
       "      <td>60</td>\n",
       "      <td>100</td>\n",
       "      <td>110</td>\n",
       "      <td>100</td>\n",
       "      <td>130</td>\n",
       "      <td>100</td>\n",
       "      <td>95</td>\n",
       "      <td>100</td>\n",
       "      <td>65</td>\n",
       "      <td>100</td>\n",
       "      <td>False</td>\n",
       "      <td>False</td>\n",
       "    </tr>\n",
       "    <tr>\n",
       "      <th>8241</th>\n",
       "      <td>733</td>\n",
       "      <td>38</td>\n",
       "      <td>45</td>\n",
       "      <td>35</td>\n",
       "      <td>22</td>\n",
       "      <td>40</td>\n",
       "      <td>60</td>\n",
       "      <td>27</td>\n",
       "      <td>27</td>\n",
       "      <td>25</td>\n",
       "      <td>30</td>\n",
       "      <td>35</td>\n",
       "      <td>29</td>\n",
       "      <td>True</td>\n",
       "      <td>True</td>\n",
       "    </tr>\n",
       "  </tbody>\n",
       "</table>\n",
       "</div>"
      ],
      "text/plain": [
       "       Winner  P1_HP  P2_HP  P1_Attack  P2_Attack  P1_Defense  P2_Defense  \\\n",
       "39826     532     45     50         53         50          70          77   \n",
       "9202      567     60     65         55         80          90          65   \n",
       "17882     409     50     95         64        135          50          80   \n",
       "35313     554     65    100         60        100         110         100   \n",
       "8241      733     38     45         35         22          40          60   \n",
       "\n",
       "       P1_Sp. Atk  P2_Sp. Atk  P1_Sp. Def  P2_Sp. Def  P1_Speed  P2_Speed  \\\n",
       "39826          40          95          60          77        42        91   \n",
       "9202          145          35          90          65        80        60   \n",
       "17882          45         110          50          80        41       100   \n",
       "35313         130         100          95         100        65       100   \n",
       "8241           27          27          25          30        35        29   \n",
       "\n",
       "       P1_HighSpeed  P1_Winner  \n",
       "39826         False      False  \n",
       "9202           True      False  \n",
       "17882         False      False  \n",
       "35313         False      False  \n",
       "8241           True       True  "
      ]
     },
     "execution_count": 15,
     "metadata": {},
     "output_type": "execute_result"
    }
   ],
   "source": [
    "train, test = train_test_split(train)\n",
    "train.head()"
   ]
  },
  {
   "cell_type": "code",
   "execution_count": 16,
   "metadata": {},
   "outputs": [],
   "source": [
    "#Establish x features and y target\n",
    "target = 'P1_Winner'\n",
    "drops = ['Winner', 'P1_Winner', 'P1_HighSpeed']\n",
    "X_train = train.drop(drops, axis = 1)\n",
    "X_val = val.drop(drops, axis = 1)\n",
    "X_test = test.drop(drops, axis = 1)\n",
    "\n",
    "y_train = train[target]\n",
    "y_val = val[target]\n",
    "y_test = test[target]"
   ]
  },
  {
   "cell_type": "code",
   "execution_count": 17,
   "metadata": {},
   "outputs": [],
   "source": [
    "#Create, fit and predict with no hyperparameters for a baseline\n",
    "model = XGBClassifier()\n",
    "model.fit(X_train, y_train)\n",
    "y_pred = model.predict(X_val)"
   ]
  },
  {
   "cell_type": "code",
   "execution_count": 18,
   "metadata": {},
   "outputs": [
    {
     "data": {
      "text/plain": [
       "<matplotlib.lines.Line2D at 0x2382d05d908>"
      ]
     },
     "execution_count": 18,
     "metadata": {},
     "output_type": "execute_result"
    },
    {
     "data": {
      "image/png": "[encoded data removed]",
      "text/plain": [
       "<Figure size 432x288 with 1 Axes>"
      ]
     },
     "metadata": {
      "needs_background": "light"
     },
     "output_type": "display_data"
    }
   ],
   "source": [
    "#Have a look at distribution of our y_true before predicting\n",
    "import matplotlib.pyplot as plt\n",
    "import seaborn as sns\n",
    "#They aren't perfectly even, but the difference isn't large\n",
    "sns.distplot(y_val.astype(int))\n",
    "#Added this line to make the difference easier to see\n",
    "plt.axhline(5.7, 0, 1)"
   ]
  },
  {
   "cell_type": "code",
   "execution_count": 19,
   "metadata": {},
   "outputs": [],
   "source": [
    "#Grab accuracy score for our metric\n",
    "from sklearn.metrics import accuracy_score"
   ]
  },
  {
   "cell_type": "code",
   "execution_count": 20,
   "metadata": {},
   "outputs": [],
   "source": [
    "#Convert predictions to int for accuracy_score\n",
    "y_pred_int = y_pred.astype(int)"
   ]
  },
  {
   "cell_type": "code",
   "execution_count": 21,
   "metadata": {},
   "outputs": [
    {
     "data": {
      "text/plain": [
       "array([0, 0, 1, ..., 0, 0, 0])"
      ]
     },
     "execution_count": 21,
     "metadata": {},
     "output_type": "execute_result"
    }
   ],
   "source": [
    "#Making sure it worked\n",
    "y_pred_int"
   ]
  },
  {
   "cell_type": "code",
   "execution_count": 23,
   "metadata": {},
   "outputs": [
    {
     "data": {
      "text/plain": [
       "0.92432"
      ]
     },
     "execution_count": 23,
     "metadata": {},
     "output_type": "execute_result"
    }
   ],
   "source": [
    "#Getting our score\n",
    "accuracy_score(y_val, y_pred)"
   ]
  },
  {
   "cell_type": "code",
   "execution_count": 24,
   "metadata": {},
   "outputs": [
    {
     "name": "stdout",
     "output_type": "stream",
     "text": [
      "              precision    recall  f1-score   support\n",
      "\n",
      "       False       0.93      0.93      0.93      6526\n",
      "        True       0.92      0.92      0.92      5974\n",
      "\n",
      "    accuracy                           0.92     12500\n",
      "   macro avg       0.92      0.92      0.92     12500\n",
      "weighted avg       0.92      0.92      0.92     12500\n",
      "\n"
     ]
    }
   ],
   "source": [
    "from sklearn.metrics import classification_report\n",
    "#Import then use classification report to check more metrics\n",
    "#print call is necessary to make it readable\n",
    "print(classification_report(y_val, y_pred_int))"
   ]
  },
  {
   "cell_type": "code",
   "execution_count": 25,
   "metadata": {},
   "outputs": [],
   "source": [
    "#Import confusion_matrix, then make a function to quickly plot it\n",
    "from sklearn.metrics import confusion_matrix\n",
    "def plot_confusion_matrix(y_true,y_pred, normalize=True):\n",
    "    cm = confusion_matrix(y_true, y_pred)\n",
    "    columns = [f'Predicted {c}'for c in y_true.unique()]\n",
    "    index_names = [f'Actual {c}'for c in y_true.unique()]\n",
    "    if normalize:\n",
    "        cm = cm/cm.sum(axis = 1).reshape(y_true.nunique(),1)\n",
    "    df = pd.DataFrame(cm, columns = columns, index = index_names)\n",
    "    sns.heatmap(df, cmap = 'viridis', annot = True, fmt='.2f')"
   ]
  },
  {
   "cell_type": "code",
   "execution_count": 26,
   "metadata": {
    "scrolled": false
   },
   "outputs": [
    {
     "data": {
      "image/png": "[encoded data removed]",
      "text/plain": [
       "<Figure size 432x288 with 2 Axes>"
      ]
     },
     "metadata": {
      "needs_background": "light"
     },
     "output_type": "display_data"
    }
   ],
   "source": [
    "#Plot the confusion matrix for our predictions\n",
    "plot_confusion_matrix(y_val, y_pred)"
   ]
  },
  {
   "cell_type": "code",
   "execution_count": 27,
   "metadata": {
    "scrolled": true
   },
   "outputs": [
    {
     "data": {
      "text/plain": [
       "<matplotlib.axes._subplots.AxesSubplot at 0x2383cac7da0>"
      ]
     },
     "execution_count": 27,
     "metadata": {},
     "output_type": "execute_result"
    },
    {
     "data": {
      "image/png": "[encoded data removed]",
      "text/plain": [
       "<Figure size 720x720 with 1 Axes>"
      ]
     },
     "metadata": {
      "needs_background": "light"
     },
     "output_type": "display_data"
    }
   ],
   "source": [
    "plt.figure(figsize = (10,10))\n",
    "\n",
    "importances = pd.Series(model.feature_importances_, X_train.columns)\n",
    "importances.sort_values().plot.barh(color = 'green')\n",
    "\n"
   ]
  },
  {
   "cell_type": "code",
   "execution_count": 28,
   "metadata": {},
   "outputs": [],
   "source": [
    "drops2 = ['Winner', 'P1_Winner']\n",
    "X_train2 = train.drop(drops2, axis = 1)\n",
    "X_val2 = val.drop(drops2, axis = 1)\n",
    "X_test2 = test.drop(drops2, axis = 1)\n",
    "\n",
    "y_train2 = train[target]\n",
    "y_val2 = val[target]\n",
    "y_test2 = test[target]"
   ]
  },
  {
   "cell_type": "code",
   "execution_count": 29,
   "metadata": {},
   "outputs": [
    {
     "data": {
      "text/html": [
       "<div>\n",
       "<style scoped>\n",
       "    .dataframe tbody tr th:only-of-type {\n",
       "        vertical-align: middle;\n",
       "    }\n",
       "\n",
       "    .dataframe tbody tr th {\n",
       "        vertical-align: top;\n",
       "    }\n",
       "\n",
       "    .dataframe thead th {\n",
       "        text-align: right;\n",
       "    }\n",
       "</style>\n",
       "<table border=\"1\" class=\"dataframe\">\n",
       "  <thead>\n",
       "    <tr style=\"text-align: right;\">\n",
       "      <th></th>\n",
       "      <th>P1_HP</th>\n",
       "      <th>P2_HP</th>\n",
       "      <th>P1_Attack</th>\n",
       "      <th>P2_Attack</th>\n",
       "      <th>P1_Defense</th>\n",
       "      <th>P2_Defense</th>\n",
       "      <th>P1_Sp. Atk</th>\n",
       "      <th>P2_Sp. Atk</th>\n",
       "      <th>P1_Sp. Def</th>\n",
       "      <th>P2_Sp. Def</th>\n",
       "      <th>P1_Speed</th>\n",
       "      <th>P2_Speed</th>\n",
       "      <th>P1_HighSpeed</th>\n",
       "    </tr>\n",
       "  </thead>\n",
       "  <tbody>\n",
       "    <tr>\n",
       "      <th>39826</th>\n",
       "      <td>45</td>\n",
       "      <td>50</td>\n",
       "      <td>53</td>\n",
       "      <td>50</td>\n",
       "      <td>70</td>\n",
       "      <td>77</td>\n",
       "      <td>40</td>\n",
       "      <td>95</td>\n",
       "      <td>60</td>\n",
       "      <td>77</td>\n",
       "      <td>42</td>\n",
       "      <td>91</td>\n",
       "      <td>False</td>\n",
       "    </tr>\n",
       "    <tr>\n",
       "      <th>9202</th>\n",
       "      <td>60</td>\n",
       "      <td>65</td>\n",
       "      <td>55</td>\n",
       "      <td>80</td>\n",
       "      <td>90</td>\n",
       "      <td>65</td>\n",
       "      <td>145</td>\n",
       "      <td>35</td>\n",
       "      <td>90</td>\n",
       "      <td>65</td>\n",
       "      <td>80</td>\n",
       "      <td>60</td>\n",
       "      <td>True</td>\n",
       "    </tr>\n",
       "    <tr>\n",
       "      <th>17882</th>\n",
       "      <td>50</td>\n",
       "      <td>95</td>\n",
       "      <td>64</td>\n",
       "      <td>135</td>\n",
       "      <td>50</td>\n",
       "      <td>80</td>\n",
       "      <td>45</td>\n",
       "      <td>110</td>\n",
       "      <td>50</td>\n",
       "      <td>80</td>\n",
       "      <td>41</td>\n",
       "      <td>100</td>\n",
       "      <td>False</td>\n",
       "    </tr>\n",
       "    <tr>\n",
       "      <th>35313</th>\n",
       "      <td>65</td>\n",
       "      <td>100</td>\n",
       "      <td>60</td>\n",
       "      <td>100</td>\n",
       "      <td>110</td>\n",
       "      <td>100</td>\n",
       "      <td>130</td>\n",
       "      <td>100</td>\n",
       "      <td>95</td>\n",
       "      <td>100</td>\n",
       "      <td>65</td>\n",
       "      <td>100</td>\n",
       "      <td>False</td>\n",
       "    </tr>\n",
       "    <tr>\n",
       "      <th>8241</th>\n",
       "      <td>38</td>\n",
       "      <td>45</td>\n",
       "      <td>35</td>\n",
       "      <td>22</td>\n",
       "      <td>40</td>\n",
       "      <td>60</td>\n",
       "      <td>27</td>\n",
       "      <td>27</td>\n",
       "      <td>25</td>\n",
       "      <td>30</td>\n",
       "      <td>35</td>\n",
       "      <td>29</td>\n",
       "      <td>True</td>\n",
       "    </tr>\n",
       "  </tbody>\n",
       "</table>\n",
       "</div>"
      ],
      "text/plain": [
       "       P1_HP  P2_HP  P1_Attack  P2_Attack  P1_Defense  P2_Defense  P1_Sp. Atk  \\\n",
       "39826     45     50         53         50          70          77          40   \n",
       "9202      60     65         55         80          90          65         145   \n",
       "17882     50     95         64        135          50          80          45   \n",
       "35313     65    100         60        100         110         100         130   \n",
       "8241      38     45         35         22          40          60          27   \n",
       "\n",
       "       P2_Sp. Atk  P1_Sp. Def  P2_Sp. Def  P1_Speed  P2_Speed  P1_HighSpeed  \n",
       "39826          95          60          77        42        91         False  \n",
       "9202           35          90          65        80        60          True  \n",
       "17882         110          50          80        41       100         False  \n",
       "35313         100          95         100        65       100         False  \n",
       "8241           27          25          30        35        29          True  "
      ]
     },
     "execution_count": 29,
     "metadata": {},
     "output_type": "execute_result"
    }
   ],
   "source": [
    "X_train2.head()"
   ]
  },
  {
   "cell_type": "code",
   "execution_count": 31,
   "metadata": {},
   "outputs": [],
   "source": [
    "model2 = XGBClassifier(n_estimators = 1000, max_depth = 50)\n",
    "model2.fit(X_train2, y_train2)\n",
    "y_pred2 = model2.predict(X_val2)"
   ]
  },
  {
   "cell_type": "code",
   "execution_count": 32,
   "metadata": {},
   "outputs": [
    {
     "data": {
      "text/plain": [
       "array([False, False,  True, ..., False, False, False])"
      ]
     },
     "execution_count": 32,
     "metadata": {},
     "output_type": "execute_result"
    }
   ],
   "source": [
    "y_pred2"
   ]
  },
  {
   "cell_type": "code",
   "execution_count": 33,
   "metadata": {},
   "outputs": [
    {
     "data": {
      "text/plain": [
       "0.95384"
      ]
     },
     "execution_count": 33,
     "metadata": {},
     "output_type": "execute_result"
    }
   ],
   "source": [
    "accuracy_score(y_val2, y_pred2)"
   ]
  },
  {
   "cell_type": "code",
   "execution_count": 34,
   "metadata": {},
   "outputs": [
    {
     "data": {
      "text/plain": [
       "<matplotlib.axes._subplots.AxesSubplot at 0x2383cb54198>"
      ]
     },
     "execution_count": 34,
     "metadata": {},
     "output_type": "execute_result"
    },
    {
     "data": {
      "image/png": "[encoded data removed]",
      "text/plain": [
       "<Figure size 720x720 with 1 Axes>"
      ]
     },
     "metadata": {
      "needs_background": "light"
     },
     "output_type": "display_data"
    }
   ],
   "source": [
    "plt.figure(figsize = (10,10))\n",
    "importances2 = pd.Series(model2.feature_importances_, X_train2.columns)\n",
    "importances2.sort_values().plot.barh(color = 'green')"
   ]
  },
  {
   "cell_type": "code",
   "execution_count": 48,
   "metadata": {},
   "outputs": [
    {
     "data": {
      "text/plain": [
       "<matplotlib.axes._subplots.AxesSubplot at 0x1f20e12ba20>"
      ]
     },
     "execution_count": 48,
     "metadata": {},
     "output_type": "execute_result"
    },
    {
     "data": {
      "image/png": "[encoded data removed]",
      "text/plain": [
       "<Figure size 432x288 with 1 Axes>"
      ]
     },
     "metadata": {
      "needs_background": "light"
     },
     "output_type": "display_data"
    }
   ],
   "source": [
    "sns.distplot(y_pred_int2)"
   ]
  },
  {
   "cell_type": "code",
   "execution_count": 24,
   "metadata": {},
   "outputs": [
    {
     "name": "stdout",
     "output_type": "stream",
     "text": [
      "002\n",
      "{'HP': [60]}\n",
      "{'HP': [60], 'Attack': [62]}\n",
      "{'HP': [60], 'Attack': [62], 'Defense': [63]}\n",
      "{'HP': [60], 'Attack': [62], 'Defense': [63], 'Sp. Atk': [80]}\n",
      "{'HP': [60], 'Attack': [62], 'Defense': [63], 'Sp. Atk': [80], 'Sp. Def': [80]}\n",
      "{'HP': [60], 'Attack': [62], 'Defense': [63], 'Sp. Atk': [80], 'Sp. Def': [80], 'Speed': [60]}\n"
     ]
    }
   ],
   "source": [
    "stats_dict = {}\n",
    "#Using a loop to add all stats to a dictionary\n",
    "for i in input():\n",
    "    pkmn = i\n",
    "    for s in stats:\n",
    "        temp_list = []\n",
    "        #Insuring the input is in int format\n",
    "        if int(pkmn):\n",
    "            stat = pkmndf.at[int(pkmn)-1, s]\n",
    "            temp_list.append(stat)\n",
    "            stats_dict[f'{s}']=temp_list\n",
    "            print(stats_dict)"
   ]
  },
  {
   "cell_type": "code",
   "execution_count": 66,
   "metadata": {},
   "outputs": [
    {
     "data": {
      "text/html": [
       "<div>\n",
       "<style scoped>\n",
       "    .dataframe tbody tr th:only-of-type {\n",
       "        vertical-align: middle;\n",
       "    }\n",
       "\n",
       "    .dataframe tbody tr th {\n",
       "        vertical-align: top;\n",
       "    }\n",
       "\n",
       "    .dataframe thead th {\n",
       "        text-align: right;\n",
       "    }\n",
       "</style>\n",
       "<table border=\"1\" class=\"dataframe\">\n",
       "  <thead>\n",
       "    <tr style=\"text-align: right;\">\n",
       "      <th></th>\n",
       "      <th>P1_HP</th>\n",
       "      <th>P2_HP</th>\n",
       "      <th>P1_Attack</th>\n",
       "      <th>P2_Attack</th>\n",
       "      <th>P1_Defense</th>\n",
       "      <th>P2_Defense</th>\n",
       "      <th>P1_Sp. Atk</th>\n",
       "      <th>P2_Sp. Atk</th>\n",
       "      <th>P1_Sp. Def</th>\n",
       "      <th>P2_Sp. Def</th>\n",
       "      <th>P1_Speed</th>\n",
       "      <th>P2_Speed</th>\n",
       "    </tr>\n",
       "  </thead>\n",
       "  <tbody>\n",
       "    <tr>\n",
       "      <th>39736</th>\n",
       "      <td>75</td>\n",
       "      <td>65</td>\n",
       "      <td>75</td>\n",
       "      <td>65</td>\n",
       "      <td>55</td>\n",
       "      <td>60</td>\n",
       "      <td>105</td>\n",
       "      <td>130</td>\n",
       "      <td>85</td>\n",
       "      <td>95</td>\n",
       "      <td>30</td>\n",
       "      <td>110</td>\n",
       "    </tr>\n",
       "    <tr>\n",
       "      <th>44067</th>\n",
       "      <td>70</td>\n",
       "      <td>65</td>\n",
       "      <td>115</td>\n",
       "      <td>85</td>\n",
       "      <td>60</td>\n",
       "      <td>70</td>\n",
       "      <td>115</td>\n",
       "      <td>75</td>\n",
       "      <td>60</td>\n",
       "      <td>70</td>\n",
       "      <td>55</td>\n",
       "      <td>40</td>\n",
       "    </tr>\n",
       "    <tr>\n",
       "      <th>10436</th>\n",
       "      <td>60</td>\n",
       "      <td>100</td>\n",
       "      <td>45</td>\n",
       "      <td>150</td>\n",
       "      <td>70</td>\n",
       "      <td>140</td>\n",
       "      <td>75</td>\n",
       "      <td>100</td>\n",
       "      <td>85</td>\n",
       "      <td>90</td>\n",
       "      <td>55</td>\n",
       "      <td>90</td>\n",
       "    </tr>\n",
       "    <tr>\n",
       "      <th>24858</th>\n",
       "      <td>110</td>\n",
       "      <td>65</td>\n",
       "      <td>130</td>\n",
       "      <td>90</td>\n",
       "      <td>80</td>\n",
       "      <td>40</td>\n",
       "      <td>70</td>\n",
       "      <td>45</td>\n",
       "      <td>60</td>\n",
       "      <td>80</td>\n",
       "      <td>80</td>\n",
       "      <td>75</td>\n",
       "    </tr>\n",
       "    <tr>\n",
       "      <th>17590</th>\n",
       "      <td>80</td>\n",
       "      <td>40</td>\n",
       "      <td>95</td>\n",
       "      <td>45</td>\n",
       "      <td>82</td>\n",
       "      <td>40</td>\n",
       "      <td>60</td>\n",
       "      <td>35</td>\n",
       "      <td>82</td>\n",
       "      <td>35</td>\n",
       "      <td>75</td>\n",
       "      <td>56</td>\n",
       "    </tr>\n",
       "  </tbody>\n",
       "</table>\n",
       "</div>"
      ],
      "text/plain": [
       "       P1_HP  P2_HP  P1_Attack  P2_Attack  P1_Defense  P2_Defense  P1_Sp. Atk  \\\n",
       "39736     75     65         75         65          55          60         105   \n",
       "44067     70     65        115         85          60          70         115   \n",
       "10436     60    100         45        150          70         140          75   \n",
       "24858    110     65        130         90          80          40          70   \n",
       "17590     80     40         95         45          82          40          60   \n",
       "\n",
       "       P2_Sp. Atk  P1_Sp. Def  P2_Sp. Def  P1_Speed  P2_Speed  \n",
       "39736         130          85          95        30       110  \n",
       "44067          75          60          70        55        40  \n",
       "10436         100          85          90        55        90  \n",
       "24858          45          60          80        80        75  \n",
       "17590          35          82          35        75        56  "
      ]
     },
     "execution_count": 66,
     "metadata": {},
     "output_type": "execute_result"
    }
   ],
   "source": [
    "X_train.head()"
   ]
  },
  {
   "cell_type": "code",
   "execution_count": 67,
   "metadata": {},
   "outputs": [
    {
     "data": {
      "text/html": [
       "<div>\n",
       "<style scoped>\n",
       "    .dataframe tbody tr th:only-of-type {\n",
       "        vertical-align: middle;\n",
       "    }\n",
       "\n",
       "    .dataframe tbody tr th {\n",
       "        vertical-align: top;\n",
       "    }\n",
       "\n",
       "    .dataframe thead th {\n",
       "        text-align: right;\n",
       "    }\n",
       "</style>\n",
       "<table border=\"1\" class=\"dataframe\">\n",
       "  <thead>\n",
       "    <tr style=\"text-align: right;\">\n",
       "      <th></th>\n",
       "      <th>P1_HP</th>\n",
       "      <th>P2_HP</th>\n",
       "      <th>P1_Attack</th>\n",
       "      <th>P2_Attack</th>\n",
       "      <th>P1_Defense</th>\n",
       "      <th>P2_Defense</th>\n",
       "      <th>P1_Sp. Atk</th>\n",
       "      <th>P2_Sp. Atk</th>\n",
       "      <th>P1_Sp. Def</th>\n",
       "      <th>P2_Sp. Def</th>\n",
       "      <th>P1_Speed</th>\n",
       "      <th>P2_Speed</th>\n",
       "      <th>P1_HighSpeed</th>\n",
       "    </tr>\n",
       "  </thead>\n",
       "  <tbody>\n",
       "    <tr>\n",
       "      <th>43895</th>\n",
       "      <td>65</td>\n",
       "      <td>60</td>\n",
       "      <td>90</td>\n",
       "      <td>60</td>\n",
       "      <td>40</td>\n",
       "      <td>60</td>\n",
       "      <td>45</td>\n",
       "      <td>60</td>\n",
       "      <td>80</td>\n",
       "      <td>60</td>\n",
       "      <td>75</td>\n",
       "      <td>60</td>\n",
       "      <td>True</td>\n",
       "    </tr>\n",
       "    <tr>\n",
       "      <th>7272</th>\n",
       "      <td>55</td>\n",
       "      <td>60</td>\n",
       "      <td>55</td>\n",
       "      <td>150</td>\n",
       "      <td>50</td>\n",
       "      <td>50</td>\n",
       "      <td>45</td>\n",
       "      <td>150</td>\n",
       "      <td>65</td>\n",
       "      <td>50</td>\n",
       "      <td>55</td>\n",
       "      <td>60</td>\n",
       "      <td>False</td>\n",
       "    </tr>\n",
       "    <tr>\n",
       "      <th>34696</th>\n",
       "      <td>75</td>\n",
       "      <td>60</td>\n",
       "      <td>90</td>\n",
       "      <td>52</td>\n",
       "      <td>90</td>\n",
       "      <td>168</td>\n",
       "      <td>140</td>\n",
       "      <td>47</td>\n",
       "      <td>90</td>\n",
       "      <td>138</td>\n",
       "      <td>115</td>\n",
       "      <td>30</td>\n",
       "      <td>True</td>\n",
       "    </tr>\n",
       "    <tr>\n",
       "      <th>39106</th>\n",
       "      <td>58</td>\n",
       "      <td>45</td>\n",
       "      <td>109</td>\n",
       "      <td>85</td>\n",
       "      <td>112</td>\n",
       "      <td>50</td>\n",
       "      <td>48</td>\n",
       "      <td>55</td>\n",
       "      <td>48</td>\n",
       "      <td>50</td>\n",
       "      <td>109</td>\n",
       "      <td>65</td>\n",
       "      <td>True</td>\n",
       "    </tr>\n",
       "    <tr>\n",
       "      <th>29457</th>\n",
       "      <td>65</td>\n",
       "      <td>74</td>\n",
       "      <td>40</td>\n",
       "      <td>94</td>\n",
       "      <td>70</td>\n",
       "      <td>131</td>\n",
       "      <td>80</td>\n",
       "      <td>54</td>\n",
       "      <td>140</td>\n",
       "      <td>116</td>\n",
       "      <td>70</td>\n",
       "      <td>20</td>\n",
       "      <td>True</td>\n",
       "    </tr>\n",
       "  </tbody>\n",
       "</table>\n",
       "</div>"
      ],
      "text/plain": [
       "       P1_HP  P2_HP  P1_Attack  P2_Attack  P1_Defense  P2_Defense  P1_Sp. Atk  \\\n",
       "43895     65     60         90         60          40          60          45   \n",
       "7272      55     60         55        150          50          50          45   \n",
       "34696     75     60         90         52          90         168         140   \n",
       "39106     58     45        109         85         112          50          48   \n",
       "29457     65     74         40         94          70         131          80   \n",
       "\n",
       "       P2_Sp. Atk  P1_Sp. Def  P2_Sp. Def  P1_Speed  P2_Speed  P1_HighSpeed  \n",
       "43895          60          80          60        75        60          True  \n",
       "7272          150          65          50        55        60         False  \n",
       "34696          47          90         138       115        30          True  \n",
       "39106          55          48          50       109        65          True  \n",
       "29457          54         140         116        70        20          True  "
      ]
     },
     "execution_count": 67,
     "metadata": {},
     "output_type": "execute_result"
    }
   ],
   "source": [
    "X_train2.head()"
   ]
  },
  {
   "cell_type": "code",
   "execution_count": null,
   "metadata": {},
   "outputs": [],
   "source": []
  }
 ],
 "metadata": {
  "kernelspec": {
   "display_name": "Python 3",
   "language": "python",
   "name": "python3"
  },
  "language_info": {
   "codemirror_mode": {
    "name": "ipython",
    "version": 3
   },
   "file_extension": ".py",
   "mimetype": "text/x-python",
   "name": "python",
   "nbconvert_exporter": "python",
   "pygments_lexer": "ipython3",
   "version": "3.7.3"
  }
 },
 "nbformat": 4,
 "nbformat_minor": 2
}
